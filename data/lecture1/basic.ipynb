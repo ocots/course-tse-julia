{
 "cells": [
  {
   "cell_type": "markdown",
   "metadata": {},
   "source": [
    "## Basic examples of code"
   ]
  },
  {
   "cell_type": "code",
   "execution_count": null,
   "metadata": {},
   "outputs": [],
   "source": [
    "x = 1\n",
    "2x"
   ]
  },
  {
   "cell_type": "code",
   "execution_count": null,
   "metadata": {},
   "outputs": [],
   "source": [
    "x = sqrt(2)"
   ]
  },
  {
   "cell_type": "code",
   "execution_count": null,
   "metadata": {},
   "outputs": [],
   "source": [
    "# unicode is great\n",
    "x = √(2)"
   ]
  },
  {
   "cell_type": "code",
   "execution_count": null,
   "metadata": {},
   "outputs": [],
   "source": [
    "😄 = sqrt(2)\n",
    "2😄"
   ]
  },
  {
   "cell_type": "markdown",
   "metadata": {},
   "source": [
    "Some functions."
   ]
  },
  {
   "cell_type": "code",
   "execution_count": null,
   "metadata": {},
   "outputs": [],
   "source": [
    "# this is a function\n",
    "function f(x)\n",
    "    return 2x+1\n",
    "end"
   ]
  },
  {
   "cell_type": "code",
   "execution_count": null,
   "metadata": {},
   "outputs": [],
   "source": [
    "# this also\n",
    "f(x) = 2x+1"
   ]
  },
  {
   "cell_type": "code",
   "execution_count": null,
   "metadata": {},
   "outputs": [],
   "source": [
    "# this also: but f is not available anymore\n",
    "g = x -> 2x^2"
   ]
  },
  {
   "cell_type": "code",
   "execution_count": null,
   "metadata": {},
   "outputs": [],
   "source": [
    "# be careful of the priorities\n",
    "g(1)"
   ]
  },
  {
   "cell_type": "code",
   "execution_count": null,
   "metadata": {},
   "outputs": [],
   "source": [
    "x = [1 3 12]\n",
    "println(\"x[2] = \", x[2])\n",
    "x[2] = 5\n",
    "println(\"x[2] = \", x[2])"
   ]
  },
  {
   "cell_type": "markdown",
   "metadata": {},
   "source": [
    "The following function has side effects that can be dangerous."
   ]
  },
  {
   "cell_type": "code",
   "execution_count": null,
   "metadata": {},
   "outputs": [],
   "source": [
    "function f(x, y)\n",
    "    x[1] = 42      # mutates x\n",
    "    y = 7 + sum(x) # new binding for y, no mutation\n",
    "    return y\n",
    "end\n",
    "\n",
    "a = [4, 5, 6]\n",
    "b = 3\n",
    "\n",
    "println(\"f($a, $b) = \", f(a, b))\n",
    "println(\"a = \", a, \" # a[1] is changed to 42 by f\")\n",
    "println(\"b = \", b, \" # not changed\")"
   ]
  },
  {
   "cell_type": "markdown",
   "metadata": {},
   "source": [
    "When a function has [side effects](https://en.wikipedia.org/wiki/Side_effect_(computer_science)), please use the `!` convention. See [Argument Passing Behavior](https://docs.julialang.org/en/v1/manual/functions/#man-argument-passing)."
   ]
  },
  {
   "cell_type": "code",
   "execution_count": null,
   "metadata": {},
   "outputs": [],
   "source": [
    "function put_at_second_place!(x, value)\n",
    "  x[2] = value\n",
    "  return nothing\n",
    "end\n",
    "\n",
    "x = [1 3 12]\n",
    "println(\"x[2] = \", x[2])\n",
    "\n",
    "put_at_second_place!(x, 5)\n",
    "println(\"x[2] = \", x[2])\n",
    "\n",
    "put_at_second_place!(x[1:3], 15) # be careful if you give a slice\n",
    "println(\"x[2] = \", x[2])"
   ]
  },
  {
   "cell_type": "markdown",
   "metadata": {},
   "source": [
    "A function may have several methods."
   ]
  },
  {
   "cell_type": "code",
   "execution_count": null,
   "metadata": {},
   "outputs": [],
   "source": [
    "Σ(x::Float64, y::Float64) = 2x + y"
   ]
  },
  {
   "cell_type": "code",
   "execution_count": null,
   "metadata": {},
   "outputs": [],
   "source": [
    "Σ(2.0, 3.0)"
   ]
  },
  {
   "cell_type": "code",
   "execution_count": null,
   "metadata": {},
   "outputs": [],
   "source": [
    "Σ(2, 3.0)"
   ]
  },
  {
   "cell_type": "code",
   "execution_count": null,
   "metadata": {},
   "outputs": [],
   "source": [
    "h(x::Number,  y::Number ) = 2x - y\n",
    "h(x::Int,     y::Int    ) = 2x * y\n",
    "h(x::Float64, y::Float64) = 2x + y"
   ]
  },
  {
   "cell_type": "code",
   "execution_count": null,
   "metadata": {},
   "outputs": [],
   "source": [
    "println(\"h(2,   3.0) = \", h(2, 3.0))\n",
    "println(\"h(2,   3  ) = \", h(2, 3))\n",
    "println(\"h(2.0, 3.0) = \", h(2.0, 3.0))"
   ]
  },
  {
   "cell_type": "code",
   "execution_count": null,
   "metadata": {},
   "outputs": [],
   "source": []
  }
 ],
 "metadata": {
  "kernelspec": {
   "display_name": "Julia 1.11.1",
   "language": "julia",
   "name": "julia-1.11"
  },
  "language_info": {
   "file_extension": ".jl",
   "mimetype": "application/julia",
   "name": "julia",
   "version": "1.11.1"
  }
 },
 "nbformat": 4,
 "nbformat_minor": 2
}
