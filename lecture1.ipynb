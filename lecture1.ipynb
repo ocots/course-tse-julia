{
  "cells": [
    {
      "cell_type": "markdown",
      "metadata": {},
      "source": [
        "---\n",
        "title-block-banner: true\n",
        "title: \"Introduction to Julia ecosystem\"\n",
        "subtitle: \"Application to Simple Linear Regression\"\n",
        "author: \"Olivier Cots\"\n",
        "date: last-modified\n",
        "jupyter: julia-1.11\n",
        "---"
      ]
    },
    {
      "cell_type": "code",
      "metadata": {},
      "source": [
        "#| echo: false\n",
        "using Pkg\n",
        "using Suppressor\n",
        "@suppress begin\n",
        "  Pkg.activate(\".\")\n",
        "end"
      ],
      "execution_count": null,
      "outputs": []
    },
    {
      "cell_type": "markdown",
      "metadata": {},
      "source": [
        "<div style=\"margin-top:-20px\"></div>\n",
        "\n",
        "## Julia ecosystem\n",
        "\n",
        "[Wikipedia citation](https://en.wikipedia.org/wiki/Julia_(programming_language)):\n",
        "\n",
        ">Julia is a high-level, general-purpose dynamic programming language, still designed to be fast and productive, for e.g. data science, artificial intelligence, machine learning, modeling and simulation, most commonly used for numerical analysis and computational science.\n",
        "\n",
        "<img height=\"100px\" style=\"margin-left:20px; float: right;\" src=\"assets/images/logo-julia.svg\" />\n",
        "\n",
        "The work on Julia began in 2009 when [Jeff Bezanson](https://en.wikipedia.org/wiki/Jeff_Bezanson_(programmer)), [Stefan Karpinski](https://karpinski.org), [Alan Edelman](https://math.mit.edu/~edelman/) and [Viral B. Shah](https://en.wikipedia.org/wiki/Viral_B._Shah) set out to create a free language that was both high-level and fast. The first public appearance is in 2012. Julia's syntax is now considered stable, since version 1.0 in 2018.\n",
        "\n",
        "Julia can be easily downloaded and installed. See the [download page](https://julialang.org/downloads/) where we can find the following.\n",
        "\n",
        "::: {.panel-tabset}\n",
        "### Mac / Linux\n",
        "\n",
        "Install the latest Julia version by running this in your terminal:\n",
        "\n",
        "``` {.bash}\n",
        "curl -fsSL https://install.julialang.org | sh\n",
        "```\n",
        "\n",
        "### Windows\n",
        "\n",
        "Install the latest Julia version from the [Microsoft Store](https://www.microsoft.com/store/apps/9NJNWW8PVKMN) by running this in the command prompt:\n",
        "\n",
        "``` {.bash}\n",
        "winget install julia -s msstore\n",
        "```\n",
        ":::\n",
        "\n",
        "On the [Julia official webpage](https://julialang.org) one can find the following summary of Julia ecosystem.\n",
        "\n",
        "::: {.panel-tabset}\n",
        "### Visualization\n",
        "\n",
        "<img height=\"220px\" style=\"float: left; margin-right:20px; margin-top:10px;\" src=\"assets/images/waves.gif\"/>\n",
        "\n",
        "#### Data Visualization and Plotting\n",
        "\n",
        "Data visualization has a complicated history. Plotting software makes trade-offs between features and simplicity, speed and beauty, and a static and dynamic interface. Some packages make a display and never change it, while others make updates in real-time.\n",
        "\n",
        "[Plots.jl](https://github.com/JuliaPlots/Plots.jl) is a visualization interface and toolset. It provides a common API across various [backends](https://docs.juliaplots.org/latest/backends/), like [GR.jl](https://github.com/jheinen/GR.jl), [PyPlot.jl](https://github.com/JuliaPy/PyPlot.jl), and [PlotlyJS.jl](https://github.com/JuliaPlots/PlotlyJS.jl). [Makie.jl](https://github.com/MakieOrg/Makie.jl) is a sophisticated package for complex graphics and animations. Users who are used to \"grammar of graphics\" plotting APIs should take a look at [Gadfly.jl](https://github.com/GiovineItalia/Gadfly.jl). [VegaLite.jl](https://github.com/queryverse/VegaLite.jl) provides the [Vega-Lite](https://vega.github.io/vega-lite/) grammar of interactive graphics interface as a Julia package. For those who do not wish to leave the comfort of the terminal, there is also [UnicodePlots.jl](https://github.com/Evizero/UnicodePlots.jl).\n",
        "\n",
        "### General\n",
        "\n",
        "<img height=\"220px\" style=\"float: left; margin-right:20px; margin-top:10px;\" src=\"assets/images/minesweeper.png\"/>\n",
        "\n",
        "#### Build, Deploy or Embed Your Code\n",
        "\n",
        "Julia makes it possible to build complete applications. Write web UIs with [Dash.jl](https://github.com/plotly/Dash.jl) and [Genie.jl](https://github.com/GenieFramework/Genie.jl) or native UIs with [Gtk4.jl](https://github.com/JuliaGtk/Gtk4.jl). Pull data from [a variety of databases](https://juliadatabases.org/). Build shared libraries and executables with [PackageCompiler](https://github.com/JuliaLang/PackageCompiler.jl). Deploy on a webserver with [HTTP.jl](https://github.com/JuliaWeb/HTTP.jl) or embedded devices. Powerful shell integration make it easy to [managing other processes](https://docs.julialang.org/en/v1/manual/running-external-programs/).\n",
        "\n",
        "Julia has foreign function interfaces for [C, Fortran](https://docs.julialang.org/en/v1/manual/calling-c-and-fortran-code/), [C++](https://github.com/JuliaInterop/CxxWrap.jl), [Python](https://github.com/JuliaPy/PythonCall.jl), [R](https://github.com/JuliaInterop/RCall.jl), [Java](https://github.com/JuliaInterop/JavaCall.jl), [Mathematica](https://github.com/JuliaInterop/MathLink.jl), [Matlab](https://github.com/JuliaInterop/MATLAB.jl), and many other languages. Julia can also be embedded in other programs through its [embedding API](https://docs.julialang.org/en/v1/manual/embedding/). Julia's [PackageCompiler](https://github.com/JuliaLang/PackageCompiler.jl) makes it possible to build binaries from Julia programs that can be integrated into larger projects. Python programs can call Julia using [juliacall](https://github.com/JuliaPy/PythonCall.jl). R programs can do the same with [R's JuliaCall](https://cran.r-project.org/web/packages/JuliaCall/index.html), which is demonstrated by [calling MixedModels.jl from R](https://rpubs.com/dmbates/377897). Mathematica supports [calling Julia through its External Evaluation System](https://reference.wolfram.com/language/ref/externalevaluationsystem/Julia.html).\n",
        "\n",
        "### Data Science\n",
        "\n",
        "<img height=\"220px\" style=\"float: left; margin-right:20px; margin-top:10px;\" src=\"assets/images/onlinestats.gif\"/>\n",
        "\n",
        "#### Interact with your Data\n",
        "\n",
        "The Julia data ecosystem provides [DataFrames.jl](https://github.com/JuliaData/DataFrames.jl) to work with datasets, and perform common data manipulations. [CSV.jl](https://github.com/JuliaData/CSV.jl) is a fast multi-threaded package to read CSV files and integration with the Arrow ecosystem is in the works with [Arrow.jl](https://github.com/JuliaData/Arrow.jl). Online computations on streaming data can be performed with [OnlineStats.jl](https://github.com/joshday/OnlineStats.jl). The [Queryverse](https://www.queryverse.org/) provides query, file IO and visualization functionality. In addition to working with tabular data, the [JuliaGraphs](https://juliagraphs.org/) packages make it easy to work with combinatorial data.\n",
        "\n",
        "Julia can work with almost all databases using [JDBC.jl](https://github.com/JuliaDatabases/JDBC.jl) and [ODBC.jl](https://github.com/JuliaDatabases/ODBC.jl) drivers. In addition, it also integrates with the Spark ecosystem through [Spark.jl](https://github.com/dfdx/Spark.jl).\n",
        "\n",
        "### ML\n",
        "\n",
        "<img height=\"220px\" style=\"float: left; margin-right:20px; margin-top:10px;\" src=\"assets/images/cartpole.gif\"/>\n",
        "\n",
        "#### Scalable Machine Learning\n",
        "\n",
        "The [MLJ.jl](https://github.com/JuliaAI/MLJ.jl) package provides a unified interface to common machine learning algorithms, which include [generalized linear models](https://github.com/JuliaStats/GLM.jl), [decision trees](https://github.com/dmlc/XGBoost.jl), and [clustering](https://github.com/JuliaStats/Clustering.jl). [Flux.jl](https://github.com/FluxML/Flux.jl) and [Lux.jl](https://github.com/LuxDL/Lux.jl) are powerful packages for Deep Learning. Packages such as [Metalhead.jl](https://github.com/FluxML/Metalhead.jl), [ObjectDetector.jl](https://github.com/r3tex/ObjectDetector.jl), and [TextAnalysis.jl](https://github.com/JuliaText/TextAnalysis.jl) provide ready to use pre-trained models for common tasks. [AlphaZero.jl](https://github.com/jonathan-laurent/AlphaZero.jl) provides a high performance implementation of the reinforcement learning algorithms from AlphaZero. [Turing.jl](https://turinglang.org/) is a best in class package for probabilistic programming.\n",
        "\n",
        "### Scientific Domains\n",
        "\n",
        "<img height=\"220px\" style=\"float: left; margin-right:20px; margin-top:10px;\" src=\"assets/images/lorenz.gif\"/>\n",
        "\n",
        "#### Rich Ecosystem for Scientific Computing\n",
        "\n",
        "Julia is designed from the ground up to be very good at numerical and scientific computing. This can be seen in the abundance of scientific tooling written in Julia, such as the state-of-the-art differential equations ecosystem [(DifferentialEquations.jl)](https://github.com/SciML/DifferentialEquations.jl), optimization tools ([JuMP.jl](https://github.com/jump-dev/JuMP.jl) and [Optim.jl](https://github.com/JuliaNLSolvers/Optim.jl)), iterative linear solvers [(IterativeSolvers.jl)](https://github.com/JuliaMath/IterativeSolvers.jl), Fast Fourier transforms [(AbstractFFTs.jl)](https://github.com/JuliaMath/AbstractFFTs.jl), and much more. General purpose simulation frameworks are available for [Scientific Machine Learning](https://sciml.ai/), [Quantum computing](https://github.com/QuantumBFS/Yao.jl) and much more.\n",
        "\n",
        "Julia also offers a number of domain-specific ecosystems, such as in biology [(BioJulia)](https://github.com/BioJulia), operations research [(JuMP Dev)](https://jump.dev/), image processing [(JuliaImages)](https://juliaimages.github.io/latest/), quantum physics [(QuantumBFS)](https://github.com/QuantumBFS), nonlinear dynamics [(JuliaDynamics)](https://github.com/JuliaDynamics), quantitative economics [(QuantEcon)](https://github.com/QuantEcon), astronomy [(JuliaAstro)](https://juliaastro.github.io/) and ecology [(EcoJulia)](https://github.com/EcoJulia). With a set of highly enthusiastic developers and maintainers, the scientific ecosystem in Julia continues to grow rapidly.\n",
        "\n",
        "### Parallel\n",
        "\n",
        "<img height=\"220px\" style=\"float: left; margin-right:20px; margin-top:10px;\" src=\"assets/images/parallel-prefix.png\"/>\n",
        "\n",
        "#### Parallel and Heterogeneous Computing\n",
        "\n",
        "Julia is designed for parallelism, and provides built-in primitives for parallel computing at every level: [instruction level parallelism](https://github.com/chriselrod/LoopVectorization.jl), [multi-threading](https://docs.julialang.org/en/v1/manual/multi-threading/), [GPU computing](https://juliagpu.org/), and [distributed computing](https://docs.julialang.org/en/v1/manual/distributed-computing/). The [Celeste.jl](https://github.com/jeff-regier/Celeste.jl) project [achieved 1.5 PetaFLOP/s](https://arxiv.org/pdf/1801.10277.pdf \"PDF paper on Cataloging the Visible Universe through Bayesian Inference at Petascale hosted on arxiv.org\") on the [Cori supercomputer at NERSC](https://cs.lbl.gov/news-media/news/2016/celeste-enhancements-create-new-opportunities-in-sky-surveys/) using 650,000 cores.\n",
        "\n",
        "The Julia compiler can also generate native code for [GPUs](https://juliagpu.org/). Packages such as [DistributedArrays.jl](https://github.com/JuliaParallel/DistributedArrays.jl) and [Dagger.jl](https://github.com/JuliaParallel/Dagger.jl) provide higher levels of abstraction for parallelism. Distributed Linear Algebra is provided by packages like [Elemental.jl](https://github.com/JuliaParallel/Elemental.jl) and [TSVD.jl](https://github.com/JuliaLinearAlgebra/TSVD.jl). MPI style parallelism is also available through [MPI.jl](https://github.com/JuliaParallel/MPI.jl).\n",
        "\n",
        ":::\n",
        "\n",
        "Julia is a modern language and comes with cloud computing and more, see [JuliaHub webpage](https://juliahub.com) and the [JuliaHub help page](https://help.juliahub.com/juliahub/stable/).\n",
        "\n",
        "> **The Modern Platform for Technical Computing.**\n",
        "> A single place for modeling, simulation, and user built applications with the Julia language. Designed with access to CPUs and GPUs for multi-threading, parallel and distributed computing, JuliaHub's supercomputing infrastructure allows teams to model breakthrough science and technology.\n",
        "\n",
        "The Julia programming language has its own conference, see the [JuliaCon 2024](https://juliacon.org/2024/).\n",
        "\n",
        "> Welcome to JuliaCon 2024, the premier annual conference for the Julia programming language community! This exciting event brings together developers, researchers, and enthusiasts from around the globe to celebrate and explore the power and versatility of Julia.\n",
        "\n",
        "<img width=\"100%\" src=\"assets/images/juliacon-2023.jpg\" />\n",
        "\n",
        "## Code execution\n",
        "\n",
        "There are different ways to execute Julia code:\n",
        "\n",
        "- within a `.ipynb` file, that is a Jupyter notebook;\n",
        "- directly into the Julia REPL;\n",
        "- from a script file `.jl`, either in the REPL or in the terminal;\n",
        "- ...\n",
        "\n",
        "### Jupyter notebooks\n",
        "\n",
        "<img height=\"100px\" style=\"margin-left:15px; margin-right:15px; float: right;\" src=\"assets/images/logo-jupyter.svg\"/>\n",
        "\n",
        "You can write some Julia code inside a [Jupyter notebook](https://jupyter.org) and execute the code. To interact with the Julia language using Jupyter notebook, please install [IJulia.jl](https://github.com/JuliaLang/IJulia.jl).\n",
        "\n",
        "> **IJulia** is a [Julia-language](http://julialang.org/) backend\n",
        "combined with the [Jupyter](http://jupyter.org/) interactive\n",
        "environment (also used by [IPython](http://ipython.org/)).  This\n",
        "combination allows you to interact with the Julia language using\n",
        "Jupyter/IPython's powerful [graphical\n",
        "notebook](http://ipython.org/notebook.html), which combines code,\n",
        "formatted text, math, and multimedia in a single document.\n",
        "IJulia is a Jupyter language kernel and works with a variety of notebook\n",
        "user interfaces. In addition to the classic Jupyter Notebook, IJulia\n",
        "also works with [JupyterLab](https://jupyterlab.readthedocs.io/en/stable/), a Jupyter-based\n",
        "integrated development environment for notebooks and code.\n",
        "The [nteract notebook desktop](https://nteract.io/) supports IJulia with\n",
        "detailed instructions for its [installation with nteract](https://nteract.io/kernels/julia).\n",
        "\n",
        "Try to execute the code of [example.ipynb](data/lecture1/example.ipynb).\n",
        "\n",
        "### The Julia REPL\n",
        "\n",
        "Julia comes with a full-featured interactive [command-line REPL](https://docs.julialang.org/en/v1/stdlib/REPL/) (read-eval-print loop) built into\n",
        "the `julia` executable. In addition to allowing quick and easy evaluation of Julia statements,\n",
        "it has a searchable history, tab-completion, many helpful keybindings, and dedicated help and\n",
        "shell modes. The REPL can be started by simply calling `julia` with no arguments or double-clicking\n",
        "on the executable:"
      ]
    },
    {
      "cell_type": "code",
      "metadata": {},
      "source": [
        "#| echo: false\n",
        "using REPL\n",
        "io = IOBuffer()\n",
        "REPL.banner(io)\n",
        "banner = String(take!(io))\n",
        "import Markdown\n",
        "Markdown.parse(\"```julia\\n\\$ julia\\n\\n$(banner)\\njulia>\\n```\")"
      ],
      "execution_count": null,
      "outputs": []
    },
    {
      "cell_type": "markdown",
      "metadata": {},
      "source": [
        "After Julia is launched you can start computing."
      ]
    },
    {
      "cell_type": "code",
      "metadata": {},
      "source": [
        "1+1"
      ],
      "execution_count": null,
      "outputs": []
    },
    {
      "cell_type": "markdown",
      "metadata": {},
      "source": [
        "Or print some text."
      ]
    },
    {
      "cell_type": "code",
      "metadata": {},
      "source": [
        "print(\"Hello!\")"
      ],
      "execution_count": null,
      "outputs": []
    },
    {
      "cell_type": "markdown",
      "metadata": {},
      "source": [
        "::: {.callout-important icon=false}\n",
        "The Julia REPL has different prompt modes that can be very useful to install / remove packages, run shell commands, search for help, etc.\n",
        "The different modes are:\n",
        "\n",
        "- The Julian mode\n",
        "- Help mode\n",
        "- Shell mode\n",
        "- Pkg mode\n",
        "- Search modes\n",
        "\n",
        "Visit the [command-line REPL page](https://docs.julialang.org/en/v1/stdlib/REPL/) for more details.\n",
        ":::\n",
        "\n",
        "### Julia scripts\n",
        "\n",
        "You can also write some code in a `.jl` script."
      ]
    },
    {
      "cell_type": "code",
      "metadata": {},
      "source": [
        "#| echo: false\n",
        "io = IOBuffer()\n",
        "disp(f) = for line in readlines(open(f)); println(io, line); end\n",
        "disp(\"data/lecture1/example.jl\")\n",
        "file_content = String(take!(io))\n",
        "import Markdown\n",
        "Markdown.parse(\"```julia\\n\\$ cat data/lecture1/example.jl\\n\\n$(file_content)\\n```\")"
      ],
      "execution_count": null,
      "outputs": []
    },
    {
      "cell_type": "markdown",
      "metadata": {},
      "source": [
        "and execute the code either in the REPL:"
      ]
    },
    {
      "cell_type": "code",
      "metadata": {},
      "source": [
        "include(\"data/lecture1/example.jl\")"
      ],
      "execution_count": null,
      "outputs": []
    },
    {
      "cell_type": "markdown",
      "metadata": {},
      "source": [
        "or in a terminal with the command `$ julia example.jl`.\n",
        "\n",
        "## Basic examples of code"
      ]
    },
    {
      "cell_type": "code",
      "metadata": {},
      "source": [
        "x = 1\n",
        "2x"
      ],
      "execution_count": null,
      "outputs": []
    },
    {
      "cell_type": "code",
      "metadata": {},
      "source": [
        "x = sqrt(2)"
      ],
      "execution_count": null,
      "outputs": []
    },
    {
      "cell_type": "code",
      "metadata": {},
      "source": [
        "# unicode is great\n",
        "x = √(2)"
      ],
      "execution_count": null,
      "outputs": []
    },
    {
      "cell_type": "code",
      "metadata": {},
      "source": [
        "😄 = sqrt(2)\n",
        "2😄"
      ],
      "execution_count": null,
      "outputs": []
    },
    {
      "cell_type": "markdown",
      "metadata": {},
      "source": [
        "Some functions."
      ]
    },
    {
      "cell_type": "code",
      "metadata": {},
      "source": [
        "# this is a function\n",
        "function f(x)\n",
        "  return 2x+1\n",
        "end"
      ],
      "execution_count": null,
      "outputs": []
    },
    {
      "cell_type": "code",
      "metadata": {},
      "source": [
        "# this also\n",
        "f(x) = 2x+1"
      ],
      "execution_count": null,
      "outputs": []
    },
    {
      "cell_type": "code",
      "metadata": {},
      "source": [
        "# this also: but f is not available anymore\n",
        "g = x -> 2x^2"
      ],
      "execution_count": null,
      "outputs": []
    },
    {
      "cell_type": "code",
      "metadata": {},
      "source": [
        "# be careful of the priorities\n",
        "g(1)"
      ],
      "execution_count": null,
      "outputs": []
    },
    {
      "cell_type": "code",
      "metadata": {},
      "source": [
        "Hello(name) = \"Hello \" * name * \"!\"\n",
        "Hello(\"Alban\")"
      ],
      "execution_count": null,
      "outputs": []
    },
    {
      "cell_type": "code",
      "metadata": {},
      "source": [
        "x = [1 3 12]\n",
        "println(\"x[2] = \", x[2])\n",
        "x[2] = 5\n",
        "println(\"x[2] = \", x[2])"
      ],
      "execution_count": null,
      "outputs": []
    },
    {
      "cell_type": "markdown",
      "metadata": {},
      "source": [
        "The following function has side effects that can be dangerous."
      ]
    },
    {
      "cell_type": "code",
      "metadata": {},
      "source": [
        "function f(x, y)\n",
        "    x[1] = 42      # mutates x\n",
        "    y = 7 + sum(x) # new binding for y, no mutation\n",
        "    return y\n",
        "end\n",
        "\n",
        "a = [4, 5, 6]\n",
        "b = 3\n",
        "\n",
        "println(\"f($a, $b) = \", f(a, b))\n",
        "println(\"a = \", a, \" # a[1] is changed to 42 by f\")\n",
        "println(\"b = \", b, \" # not changed\")"
      ],
      "execution_count": null,
      "outputs": []
    },
    {
      "cell_type": "markdown",
      "metadata": {},
      "source": [
        "When a function has [side effects](https://en.wikipedia.org/wiki/Side_effect_(computer_science)), please use the `!` convention. See [Argument Passing Behavior](https://docs.julialang.org/en/v1/manual/functions/#man-argument-passing)."
      ]
    },
    {
      "cell_type": "code",
      "metadata": {},
      "source": [
        "function put_at_second_place!(x, value)\n",
        "  x[2] = value\n",
        "  return nothing\n",
        "end\n",
        "\n",
        "x = [1 3 12]\n",
        "println(\"x[2] = \", x[2])\n",
        "\n",
        "put_at_second_place!(x, 5)\n",
        "println(\"x[2] = \", x[2])\n",
        "\n",
        "put_at_second_place!(x[1:3], 15) # be careful if you give a slice\n",
        "println(\"x[2] = \", x[2])"
      ],
      "execution_count": null,
      "outputs": []
    },
    {
      "cell_type": "markdown",
      "metadata": {},
      "source": [
        "A function may have several methods."
      ]
    },
    {
      "cell_type": "code",
      "metadata": {},
      "source": [
        "Σ(x::Float64, y::Float64) = 2x + y"
      ],
      "execution_count": null,
      "outputs": []
    },
    {
      "cell_type": "code",
      "metadata": {},
      "source": [
        "Σ(2.0, 3.0)"
      ],
      "execution_count": null,
      "outputs": []
    },
    {
      "cell_type": "code",
      "metadata": {},
      "source": [
        "#| error: true\n",
        "Σ(2, 3.0)"
      ],
      "execution_count": null,
      "outputs": []
    },
    {
      "cell_type": "code",
      "metadata": {},
      "source": [
        "h(x::Number,  y::Number ) = 2x - y\n",
        "h(x::Int,     y::Int    ) = 2x * y\n",
        "h(x::Float64, y::Float64) = 2x + y"
      ],
      "execution_count": null,
      "outputs": []
    },
    {
      "cell_type": "code",
      "metadata": {},
      "source": [
        "println(\"h(2,   3.0) = \", h(2, 3.0))\n",
        "println(\"h(2,   3  ) = \", h(2, 3))\n",
        "println(\"h(2.0, 3.0) = \", h(2.0, 3.0))"
      ],
      "execution_count": null,
      "outputs": []
    },
    {
      "cell_type": "markdown",
      "metadata": {},
      "source": [
        "## Documentation\n",
        "\n",
        "<img height=\"150px\" src=\"assets/images/logo-julia.png\"/>\n",
        "\n",
        "In the [Julia documentation](https://docs.julialang.org/en/v1/), you may find:\n",
        "\n",
        "- some important Links;\n",
        "- a comparison to other languages;\n",
        "- a list of advantages of using Julia\n",
        "\n",
        "but also:\n",
        "\n",
        "- manuals;\n",
        "- base documentation;\n",
        "- standard librairies documentation;\n",
        "- developer documentation.\n",
        "\n",
        "::: {.callout-note}\n",
        "In Julia, it is quite common to have the documentation in the form of manuals or tutorials. See [Getting Started with Differential Equations in Julia](https://docs.sciml.ai/DiffEqDocs/stable/getting_started/#ode_example) for instance.\n",
        ":::\n",
        "\n",
        "**Example.** Search how to compute the norm of a vector.\n",
        "\n",
        "<img width=\"100%\" src=\"assets/images/doc-norm-1.png\"/>\n",
        "\n",
        "The `norm` function comes from the standard librairy `LinearAlgebra`.\n",
        "\n",
        "<img width=\"100%\" src=\"assets/images/doc-norm-2.png\"/>\n",
        "\n",
        "However, we are not directly at the right place, so I recommend to use the `Search docs` field.\n",
        "\n",
        "<img width=\"100%\" src=\"assets/images/doc-norm-3.png\"/>\n",
        "\n",
        "And now, we have the documentation.\n",
        "\n",
        "<img width=\"100%\" src=\"assets/images/doc-norm-4.png\"/>\n",
        "\n",
        "::: {.callout-note}\n",
        "It is also possible to use the help mode:\n",
        "\n",
        "```julia\n",
        "using LinearAlgebra\n",
        "?norm\n",
        "```\n",
        ":::\n",
        "\n",
        "## Editors and IDEs\n",
        "\n",
        "<div class=\"row ides\">\n",
        "<div class=\"col-lg-3 col-md-6 ide ide-feature\">\n",
        "<h3-ide>VS Code</h3-ide>\n",
        "<a href=\"https://www.julia-vscode.org/\" target=\"_blank\">\n",
        "<img src=\"assets/images/vscode.png\" height=\"85\" width=\"85\" alt=\"VSCode Logo\"></a>\n",
        "<h4-ide class=\"outer-link\">\n",
        "<a class=\"link extra-link\" href=\"https://www.julia-vscode.org/\" target=\"_blank\">VS Code Extension</a>\n",
        "</h4-ide>\n",
        "</div>\n",
        "<div class=\"col-lg-3 col-md-6 ide ide-feature\">\n",
        "<h3-ide>Jupyter</h3-ide>\n",
        "<a href=\"https://github.com/JuliaLang/IJulia.jl\" target=\"_blank\">\n",
        "<img src=\"assets/images/jupyter.svg\" height=\"85\" width=\"85\" alt=\"Jupyter Logo\"></a>\n",
        "<h4-ide class=\"outer-link\">\n",
        "<a class=\"link extra-link\" href=\"https://github.com/JuliaLang/IJulia.jl\" target=\"_blank\">Jupyter kernel</a>\n",
        "</h4-ide>\n",
        "</div>\n",
        "<div class=\"col-lg-3 col-md-6 ide ide-feature\">\n",
        "<h3-ide>Pluto.jl</h3-ide>\n",
        "<a href=\"https://plutojl.org/\" target=\"_blank\">\n",
        "<img src=\"assets/images/pluto_jl.svg\" height=\"85\" width=\"85\" alt=\"Pluto.jl Logo\"></a>\n",
        "<h4-ide class=\"outer-link\">\n",
        "<a class=\"link extra-link\" href=\"https://plutojl.org/\" target=\"_blank\">Simple reactive notebooks</a>\n",
        "</h4-ide>\n",
        "</div>\n",
        "<div class=\"col-lg-3 col-md-6 ide ide-feature\">\n",
        "<h3-ide>Vim</h3-ide>\n",
        "<a href=\"https://github.com/JuliaEditorSupport/julia-vim\" target=\"_blank\">\n",
        "<img src=\"assets/images/vim.png\" height=\"85\" width=\"85\" alt=\"Vim Logo\"></a>\n",
        "<h4-ide class=\"outer-link\">\n",
        "<a class=\"link extra-link\" href=\"https://github.com/JuliaEditorSupport/julia-vim\" target=\"_blank\">Vim plugin</a>\n",
        "</h4-ide>\n",
        "</div>\n",
        "<div class=\"col-lg-3 col-md-6 ide ide-feature\">\n",
        "<h3-ide>Emacs</h3-ide>\n",
        "<a href=\"https://github.com/JuliaEditorSupport/julia-emacs\" target=\"_blank\">\n",
        "<img src=\"assets/images/emacs.png\" height=\"85\" width=\"85\" alt=\"Emacs Logo\"></a>\n",
        "<h4-ide class=\"outer-link\">\n",
        "<a class=\"link extra-link\" href=\"https://github.com/JuliaEditorSupport/julia-emacs\" target=\"_blank\">Emacs plugin</a>\n",
        "</h4-ide>\n",
        "</div>\n",
        "</div>\n",
        "\n",
        "I recommend to use [VS Code](https://www.julia-vscode.org). You can download it [here](https://code.visualstudio.com/download). See the [Julia Visual Studio Code Documentation](https://www.julia-vscode.org/docs/stable/#Julia-Visual-Studio-Code-Documentation).\n",
        "\n",
        "> Julia for Visual Studio Code is a powerful, free IDE for the Julia language. Visual Studio Code is a powerful and customizable editor. With a completely live environment, Julia for VS Code aims to take the frustration and guesswork out of programming and put the fun back in.  We build on Julia’s unique combination of ease-of-use and performance. Beginners and experts can build better software more quickly, and get to a result faster. Julia is an officially supported language on the [VS Code docs](https://code.visualstudio.com/docs/languages/julia).\n",
        "\n",
        "## Exercise\n",
        "\n",
        "### Context: Least Squares Regression Line\n",
        "\n",
        "We propose a first exercise about [simple linear regression](https://en.wikipedia.org/wiki/Simple_linear_regression). The data are excerpted from this [example](https://www.ncl.ac.uk/webtemplate/ask-assets/external/maths-resources/statistics/regression-and-correlation/simple-linear-regression.html) and saved into [data.csv](data.csv). We propose an [ordinary least squares](https://en.wikipedia.org/wiki/Ordinary_least_squares) formulation which is a type of [linear least squares](https://en.wikipedia.org/wiki/Linear_least_squares) method for choosing the unknown parameters in a linear regression model by the principle of least squares: minimizing the sum of the squares of the differences between the observed dependent variable (values of the variable being observed) in the input dataset and the output of the (linear) function of the independent variable.\n",
        "\n",
        "<img height=\"350px\" style=\"float: right;\" src=\"assets/images/Linear_least_squares_example2.svg\"/>\n",
        "\n",
        "Given a set of $m$ data points $y_{1}$, $y_{2}$, $\\dots$, $y_{m}$, consisting of experimentally measured values taken at $m$ values $x_{1}$, $x_{2}$, $\\dots$, $x_{m}$ of an independent variable ($x_i$ may be scalar or vector quantities), and given a model function $y=f(x,\\beta),$ with $\\beta =(\\beta_{1},\\beta_{2},\\dots ,\\beta_{n})$, it is desired to find the parameters $\\beta_j$ such that the model function \"best\" fits the data. In linear least squares, linearity is meant to be with respect to parameters $\\beta_j$, so\n",
        "$$\n",
        "  f(x, \\beta) = \\sum_{j=1}^n \\beta_j\\, \\varphi_j(x).\n",
        "$$\n",
        "In general, the functions $\\varphi_j$ may be nonlinear. However, we consider linear regression, that is\n",
        "$$\n",
        "  f(x, \\beta) = \\beta_1 + \\beta_2 x.\n",
        "$$\n",
        "Ideally, the model function fits the data exactly, so \n",
        "$$\n",
        "  y_i = f(x_i, \\beta)\n",
        "$$\n",
        "for all $i=1, 2, \\dots, m$. This is usually not possible in practice, as there are more data points than there are parameters to be determined. The approach chosen then is to find the minimal possible value of the sum of squares of the residuals\n",
        "$$\n",
        "  r_i(\\beta) = y_i - f(x_i, \\beta), \\quad i=1, 2, \\dots, m\n",
        "$$\n",
        "so to minimize the function\n",
        "$$\n",
        "  S(\\beta) = \\sum_{i=1}^m r_i^2(\\beta).\n",
        "$$\n",
        "In the linear least squares case, the residuals are of the form\n",
        "$$\n",
        "  r(\\beta) = y - X\\, \\beta\n",
        "$$\n",
        "with $y = (y_i)_{1\\le i\\le m} \\in \\mathbb{R}^m$ and $X = (X_{ij})_{1\\le i\\le m, 1\\le j\\le n} \\in \\mathrm{M}_{mn}(\\mathbb{R})$, where $X_{ij} = \\varphi_j(x_i)$. Since we consider linear regression, the $i$-th row of the matrix $X$ is given by\n",
        "$$\n",
        "  X_{i[:]} = [1 \\quad x_i].\n",
        "$$\n",
        "The objective function may be written\n",
        "$$\n",
        "  S(\\beta) = {\\Vert y - X\\, \\beta \\Vert}^2\n",
        "$$\n",
        "where the norm is the usual $2$-norm. The solution to the linear least squares problem\n",
        "$$\n",
        "  \\underset{\\beta \\in \\mathbb{R}^n}{\\mathrm{minimize}}\\, {\\Vert y - X\\, \\beta \\Vert}^2\n",
        "$$\n",
        "is computed by solving the *normal equation*\n",
        "$$\n",
        "  X^\\top X\\, \\beta = X^\\top y,\n",
        "$$\n",
        "where $X^\\top$ denotes the transpose of $X$.\n",
        "\n",
        "### Questions\n",
        "\n",
        "To answer the questions you need to import the following packages."
      ]
    },
    {
      "cell_type": "code",
      "metadata": {},
      "source": [
        "using DataFrames\n",
        "using CSV\n",
        "using Plots"
      ],
      "execution_count": null,
      "outputs": []
    },
    {
      "cell_type": "markdown",
      "metadata": {},
      "source": [
        "You also need to download the csv file. Click on the following image.\n",
        "\n",
        "<a href=\"data/lecture1/data.csv\" download>\n",
        "  <img src=\"assets/images/logo-csv-download.png\" width=\"50\">\n",
        "</a>\n",
        "\n",
        "1. Using the packages `DataFrames.jl` and `CSV.jl`, load the dataset from [data/lecture1/data.csv](data/lecture1/data.csv) and save the result into a variable named `dataset`."
      ]
    },
    {
      "cell_type": "code",
      "metadata": {},
      "source": [
        "#| code-fold: true\n",
        "#| code-summary: \"Show the answer\"\n",
        "path = \"data/lecture1/data.csv\" # update depending on the location of your file\n",
        "dataset = DataFrame(CSV.File(path))"
      ],
      "execution_count": null,
      "outputs": []
    },
    {
      "cell_type": "markdown",
      "metadata": {},
      "source": [
        "::: {.callout-note}\n",
        "Do not hesitate to visit the documentation of `CSV.jl` and `DataFrames.jl`.\n",
        ":::\n",
        "\n",
        "2. Using the package `Plot.jl`, plot the data. \n",
        "\n",
        "::: {.callout-caution collapse=\"true\"}\n",
        "## Hint\n",
        "\n",
        "Use `names(dataset)` to get the list of data names. If `Time` is a name you can access to the associated data by `dataset.Time`.\n",
        ":::"
      ]
    },
    {
      "cell_type": "code",
      "metadata": {},
      "source": [
        "#| code-fold: true\n",
        "#| code-summary: \"Show the answer\"\n",
        "plt = plot(\n",
        "  dataset.Time, \n",
        "  dataset.Mass,\n",
        "  seriestype=:scatter, \n",
        "  legend=false, \n",
        "  xlabel=\"Time\", \n",
        "  ylabel=\"Mass\"\n",
        ")"
      ],
      "execution_count": null,
      "outputs": []
    },
    {
      "cell_type": "markdown",
      "metadata": {},
      "source": [
        "1. Create the matrix $X$, the vector $\\beta$ and solve the normal equation with the operator [`Base.\\`](https://tinyurl.com/juliadoc-base-backslash).\n",
        "\n",
        "::: {.callout-caution collapse=\"true\"}\n",
        "## Hint\n",
        "\n",
        "Use `ones(m)` to generate a vector of 1 of length $m$.\n",
        ":::"
      ]
    },
    {
      "cell_type": "code",
      "metadata": {},
      "source": [
        "#| code-fold: true\n",
        "#| code-summary: \"Show the answer\"\n",
        "m = length(dataset.Time)\n",
        "X = [ones(m) dataset.Time]\n",
        "y = dataset.Mass\n",
        "β = X\\y"
      ],
      "execution_count": null,
      "outputs": []
    },
    {
      "cell_type": "markdown",
      "metadata": {},
      "source": [
        "4. Plot the linear model on the same plot as the data. Use the `plot!` function. See the [basic concepts for plotting](https://docs.juliaplots.org/stable/basics/#Basic-Concepts)."
      ]
    },
    {
      "cell_type": "code",
      "metadata": {},
      "source": [
        "#| code-fold: true\n",
        "#| code-summary: \"Show the answer\"\n",
        "x = [5, 20]\n",
        "y = β[1] .+ β[2]*x\n",
        "plot!(plt, x, y)"
      ],
      "execution_count": null,
      "outputs": []
    }
  ],
  "metadata": {
    "kernelspec": {
      "name": "julia-1.11",
      "language": "julia",
      "display_name": "Julia 1.11.1",
      "path": "/Users/ocots/Library/Jupyter/kernels/julia-1.11"
    }
  },
  "nbformat": 4,
  "nbformat_minor": 4
}